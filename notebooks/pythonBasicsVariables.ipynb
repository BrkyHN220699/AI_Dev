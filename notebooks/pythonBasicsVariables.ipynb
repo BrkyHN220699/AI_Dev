{
 "cells": [
  {
   "cell_type": "code",
   "execution_count": 5,
   "metadata": {},
   "outputs": [
    {
     "name": "stdout",
     "output_type": "stream",
     "text": [
      "Isminin harf olarak uzunlugu:  4\n"
     ]
    }
   ],
   "source": [
    "username = input(\"ismini yazar misin? \")\n",
    "\n",
    "\n",
    "length = len(username)\n",
    "\n",
    "print(\"Isminin harf olarak uzunlugu: \" , length)"
   ]
  },
  {
   "cell_type": "code",
   "execution_count": 7,
   "metadata": {},
   "outputs": [
    {
     "name": "stdout",
     "output_type": "stream",
     "text": [
      "Merhaba Dünya\n",
      "Uzunluk: 5\n",
      "Uzunluk: 5\n",
      "Toplam: 5\n"
     ]
    }
   ],
   "source": [
    "# + sadece aynı tür (string + string, int + int) için\n",
    "\n",
    "print(\"Merhaba \" + \"Dünya\")  # Doğru\n",
    "print(\"Uzunluk: \" + str(5))  # int'i stringe çevirince doğru\n",
    "\n",
    "# , farklı türleri otomatik ayırarak yazar\n",
    "\n",
    "print(\"Uzunluk:\", 5)  # int otomatik stringe çevrilir, hata vermez\n",
    "print(\"Toplam:\", 3 + 2)"
   ]
  },
  {
   "cell_type": "markdown",
   "metadata": {},
   "source": [
    "1. Variable Definition\n",
    "\n",
    "Variable = memory reference to data.\n",
    "\n",
    "Python’da type declaration yok, assignment ile oluşur.\n",
    "\n",
    "name = \"Berkay\"\n",
    "age = 26\n",
    "pi = 3.14\n",
    "\n",
    "2. Dynamic Typing\n",
    "\n",
    "Aynı variable farklı tipte değer alabilir.\n",
    "\n",
    "x = 5\n",
    "x = \"text\"\n",
    "\n",
    "3. Assignment Rules\n",
    "\n",
    "= her zaman sağdaki değeri sola atar.\n",
    "\n",
    "Tek yönlüdür (matematikteki eşitlik değildir).\n",
    "\n",
    "4. Naming Conventions\n",
    "\n",
    "Case-sensitive: x ≠ X\n",
    "\n",
    "Sadece harf, rakam, _ içerir; rakamla başlayamaz.\n",
    "\n",
    "snake_case Python standardıdır.\n",
    "\n",
    "Reserved kelimeler kullanılamaz (for, while, if, vb).\n",
    "\n",
    "5. Data Types (Primitive + Basic Collection)\n",
    "\n",
    "str, int, float, bool\n",
    "\n",
    "list, tuple, dict, set\n",
    "\n",
    "6. Type Function\n",
    "type(x)\n",
    "\n",
    "7. Input / Output\n",
    "name = input(\"Adın: \")  # default type: string\n",
    "print(\"Merhaba\", name)\n",
    "\n",
    "8. Type Conversion\n",
    "age = int(input(\"Yaşın: \"))\n",
    "pi_str = str(pi)\n",
    "\n",
    "9. String Formatting\n",
    "\n",
    "+ → sadece string birleştirir\n",
    "\n",
    ", → farklı tipleri otomatik dönüştürür\n",
    "\n",
    "f-string → modern, önerilen yöntem:\n",
    "\n",
    "print(f\"İsmin {name}, yaşın {age}\")"
   ]
  },
  {
   "cell_type": "markdown",
   "metadata": {},
   "source": [
    "+ sadece aynı tür (string + string, int + int) için\n",
    "\n",
    "print(\"Merhaba \" + \"Dünya\")  # Doğru\n",
    "print(\"Uzunluk: \" + str(5))  # int'i stringe çevirince doğru\n",
    "\n",
    ", farklı türleri otomatik ayırarak yazar\n",
    "\n",
    "print(\"Uzunluk:\", 5)  # int otomatik stringe çevrilir, hata vermez\n",
    "print(\"Toplam:\", 3 + 2)"
   ]
  }
 ],
 "metadata": {
  "kernelspec": {
   "display_name": ".venv",
   "language": "python",
   "name": "python3"
  },
  "language_info": {
   "codemirror_mode": {
    "name": "ipython",
    "version": 3
   },
   "file_extension": ".py",
   "mimetype": "text/x-python",
   "name": "python",
   "nbconvert_exporter": "python",
   "pygments_lexer": "ipython3",
   "version": "3.11.13"
  },
  "orig_nbformat": 4
 },
 "nbformat": 4,
 "nbformat_minor": 2
}
