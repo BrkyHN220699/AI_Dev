{
 "cells": [
  {
   "cell_type": "code",
   "execution_count": 5,
   "metadata": {},
   "outputs": [
    {
     "name": "stdout",
     "output_type": "stream",
     "text": [
      "a\n",
      "n\n",
      "o\n"
     ]
    }
   ],
   "source": [
    "print(\"bekocan\"[5])\n",
    "#Besinci indis yani bastan altinci karakteri yazdiracak\n",
    "\n",
    "\n",
    "print(\"bekocan\"[-1])\n",
    "#Sonuncu karakteri yazdirir\n",
    "\n",
    "print(\"bekocan\"[-4])\n",
    "#Sondan dorduncu karakteri yazdirir\n"
   ]
  },
  {
   "cell_type": "code",
   "execution_count": 6,
   "metadata": {},
   "outputs": [
    {
     "name": "stdout",
     "output_type": "stream",
     "text": [
      "12\n",
      "\n",
      "13\n",
      "12.9906\n"
     ]
    }
   ],
   "source": [
    "denemeSayisi = 12.990622\n",
    "\n",
    "print(int(denemeSayisi))\n",
    "#int olarak ondalik bolum olmadan mantiken yazar (yuvarlama yapmaz)\n",
    "print()\n",
    "\n",
    "print(round(denemeSayisi))\n",
    "#int olarak yazdirir fakat yuvarlama yapar 5 ve ustu bir ust tam sayiya, 4 ve alti da alt\n",
    "print()\n",
    "\n",
    "print(round(denemeSayisi, 4))\n",
    "#float olarak yani ondalikli, virgulden sonraki basamak sayisini senin istedigin kadari ile yazdirir\n"
   ]
  },
  {
   "cell_type": "code",
   "execution_count": 9,
   "metadata": {},
   "outputs": [
    {
     "name": "stdout",
     "output_type": "stream",
     "text": [
      "1\n",
      "0\n",
      "0\n",
      "0.0\n"
     ]
    }
   ],
   "source": [
    "score = 0\n",
    "\n",
    "#basic operations with it\n",
    "\n",
    "score +=1 # score = score + 1\n",
    "print(score)\n",
    "score -=1 # score = score - 1\n",
    "print(score)\n",
    "score *=1 # score = score * 1\n",
    "print(score)\n",
    "score /=1 # score = score / 1\n",
    "print(score)\n"
   ]
  },
  {
   "cell_type": "code",
   "execution_count": 11,
   "metadata": {},
   "outputs": [
    {
     "name": "stdout",
     "output_type": "stream",
     "text": [
      "Senin int degerin 20, Senin string degerin Yirmi,\n",
      "senin float degerin 20.2, senin boolean degerin True\n"
     ]
    }
   ],
   "source": [
    "# Farkli turde degerleri tek seferde manuel donusum yapmadan print ile yazdirmak icin print() basinda \"f\" kullan print(f\"......{}\") \n",
    "# ve suslu parantez icerisinde de degere verdigin adi gir print(f\"......{variableX}\")\n",
    "\n",
    "\n",
    "\n",
    "intDeger = 20\n",
    "stringDeger = \"Yirmi\"\n",
    "floatDeger = 20.20\n",
    "booleanDeger = True\n",
    "\n",
    "\n",
    "\n",
    "print(f\"Senin int degerin {intDeger}, Senin string degerin {stringDeger},\\nsenin float degerin {floatDeger}, senin boolean degerin {booleanDeger}\")"
   ]
  },
  {
   "cell_type": "code",
   "execution_count": 9,
   "metadata": {},
   "outputs": [
    {
     "name": "stdout",
     "output_type": "stream",
     "text": [
      "123123\n",
      "468\n",
      "1962.0102\n",
      "True\n",
      "False\n",
      "\n",
      "\n",
      "<class 'str'>\n",
      "<class 'int'>\n",
      "<class 'float'>\n",
      "<class 'bool'>\n"
     ]
    }
   ],
   "source": [
    "print(\"123\" + \"123\")\n",
    "#string\n",
    "\n",
    "print(123 + 345)\n",
    "#int\n",
    "\n",
    "print(1962.0102)\n",
    "#float\n",
    "\n",
    "print(True)\n",
    "print(False)\n",
    "#boolean\n",
    "\n",
    "\n",
    "print()\n",
    "print()\n",
    "\n",
    "#Bir diger gosteris ile !\n",
    "\n",
    "\n",
    "print(type(\"123\"))\n",
    "print(type(123))\n",
    "print(type(123.123))\n",
    "print(type(True))\n",
    "\n",
    "\n"
   ]
  },
  {
   "cell_type": "code",
   "execution_count": 11,
   "metadata": {},
   "outputs": [
    {
     "name": "stdout",
     "output_type": "stream",
     "text": [
      "105\n",
      "95\n",
      "500\n",
      "10000000000\n",
      "20.0\n",
      "20\n"
     ]
    }
   ],
   "source": [
    "int1 = 100\n",
    "\n",
    "int2 = 5\n",
    "\n",
    "print(int1 + int2)\n",
    "#toplama yapar\n",
    "\n",
    "print(int1 - int2)\n",
    "#cikarma yapar\n",
    "\n",
    "print(int1 * int2)\n",
    "#carpma yapar\n",
    "\n",
    "print(int1 ** int2)\n",
    "#uslu sayi mantiginda int1 uzeri int2 olur\n",
    "\n",
    "print(int1 / int2)\n",
    "#bolme yapar (ondalikli yani float output olacak sekilde boler)\n",
    "\n",
    "print(int1 // int2)\n",
    "#bolme yapar (tam sayi yani int output olacak sekilde boler)\n",
    "\n"
   ]
  }
 ],
 "metadata": {
  "kernelspec": {
   "display_name": ".venv",
   "language": "python",
   "name": "python3"
  },
  "language_info": {
   "codemirror_mode": {
    "name": "ipython",
    "version": 3
   },
   "file_extension": ".py",
   "mimetype": "text/x-python",
   "name": "python",
   "nbconvert_exporter": "python",
   "pygments_lexer": "ipython3",
   "version": "3.11.13"
  },
  "orig_nbformat": 4
 },
 "nbformat": 4,
 "nbformat_minor": 2
}
