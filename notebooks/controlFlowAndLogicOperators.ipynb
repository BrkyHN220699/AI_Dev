{
 "cells": [
  {
   "cell_type": "code",
   "execution_count": 4,
   "metadata": {},
   "outputs": [
    {
     "name": "stdout",
     "output_type": "stream",
     "text": [
      "Welcome to the rollercoaster!\n",
      "You can ride the rollercoaster\n"
     ]
    }
   ],
   "source": [
    "# en basit halde kosullu ifade\n",
    "\n",
    "# if xxxxxx: sonra islem\n",
    "# else: sonra islem\n",
    "\n",
    "print(\"Welcome to the rollercoaster!\")\n",
    "height = int(input(\"What is your height in cm? \"))\n",
    "\n",
    "if height >= 120:\n",
    "    print(\"You can ride the rollercoaster\")\n",
    "else:\n",
    "    print(\"Sorry you have to grow taller before you can ride.\")\n"
   ]
  },
  {
   "cell_type": "code",
   "execution_count": 8,
   "metadata": {},
   "outputs": [
    {
     "name": "stdout",
     "output_type": "stream",
     "text": [
      "You're good at english\n"
     ]
    }
   ],
   "source": [
    "# en basit halde ic ice kosullu ifade\n",
    "\n",
    "# if xxxxxx: sonra tekrar if xxxxxx: sonra varsa yine if xxxxx: yoksa islem \n",
    "# kademe kademe disari cikarak else: sonra islem\n",
    "# gerekiyorse elif \n",
    "\n",
    "maths_score = 80\n",
    "english_score = 90\n",
    "\n",
    "if maths_score >= 90:\n",
    "    if english_score >= 90:\n",
    "        print(\"You're good at everything\")\n",
    "    else:\n",
    "        print(\"You're good at maths\")\n",
    "if english_score >= 90:\n",
    "    print(\"You're good at english\")\n"
   ]
  },
  {
   "cell_type": "code",
   "execution_count": 9,
   "metadata": {},
   "outputs": [
    {
     "name": "stdout",
     "output_type": "stream",
     "text": [
      "Welcome to Python Pizza Deliveries!\n",
      "Your final bill is: $18.\n"
     ]
    }
   ],
   "source": [
    "# Giris seviye bir pizza siparis mini uygulamasi\n",
    "\n",
    "print(\"Welcome to Python Pizza Deliveries!\")\n",
    "\n",
    "size = input(\"What size pizza do you want? S, M or L: \")\n",
    "\n",
    "if size.lower() not in [\"s\", \"m\", \"l\"]:\n",
    "    print(\"There is a problem with your order!\")\n",
    "    exit()\n",
    "\n",
    "pepperoni = input(\"Do you want pepperoni on your pizza? Y or N: \")\n",
    "\n",
    "if pepperoni.lower() not in [\"y\", \"n\"]:\n",
    "    print(\"There is a problem with your order!\")\n",
    "    exit()\n",
    "\n",
    "\n",
    "extra_cheese = input(\"Do you want extra cheese? Y or N: \")\n",
    "\n",
    "if extra_cheese.lower() not in [\"y\", \"n\"]:\n",
    "    print(\"There is a problem with your order!\")\n",
    "    exit()\n",
    "\n",
    "finalBill = 0\n",
    "\n",
    "\n",
    "if size == \"S\" or size == \"s\":\n",
    "    finalBill = finalBill + 15\n",
    "    if pepperoni == \"Y\" or pepperoni == \"y\":\n",
    "        finalBill = finalBill + 2\n",
    "    if extra_cheese == \"Y\" or extra_cheese== \"y\":\n",
    "        finalBill = finalBill + 1\n",
    "        print(f\"Your final bill is: ${finalBill}.\")\n",
    "    else:\n",
    "        print(f\"Your final bill is: ${finalBill}.\")\n",
    "\n",
    "\n",
    "elif size == \"M\" or size == \"m\":\n",
    "    finalBill = finalBill + 20\n",
    "    if pepperoni == \"Y\" or pepperoni == \"y\":\n",
    "        finalBill = finalBill + 3\n",
    "    if extra_cheese == \"Y\" or extra_cheese== \"y\":\n",
    "        finalBill = finalBill + 1\n",
    "        print(f\"Your final bill is: ${finalBill}.\")\n",
    "    else:\n",
    "        print(f\"Your final bill is: ${finalBill}.\")\n",
    "\n",
    "\n",
    "elif size == \"L\" or size == \"l\":\n",
    "    finalBill = finalBill + 25\n",
    "    if pepperoni == \"Y\" or pepperoni == \"y\":\n",
    "        finalBill = finalBill + 3\n",
    "    if extra_cheese == \"Y\" or extra_cheese== \"y\":\n",
    "        finalBill = finalBill + 1\n",
    "        print(f\"Your final bill is: ${finalBill}.\")\n",
    "    else:\n",
    "        print(f\"Your final bill is: ${finalBill}.\")\n",
    "\n",
    "\n"
   ]
  },
  {
   "cell_type": "code",
   "execution_count": null,
   "metadata": {},
   "outputs": [],
   "source": []
  }
 ],
 "metadata": {
  "kernelspec": {
   "display_name": ".venv",
   "language": "python",
   "name": "python3"
  },
  "language_info": {
   "codemirror_mode": {
    "name": "ipython",
    "version": 3
   },
   "file_extension": ".py",
   "mimetype": "text/x-python",
   "name": "python",
   "nbconvert_exporter": "python",
   "pygments_lexer": "ipython3",
   "version": "3.11.13"
  },
  "orig_nbformat": 4
 },
 "nbformat": 4,
 "nbformat_minor": 2
}
