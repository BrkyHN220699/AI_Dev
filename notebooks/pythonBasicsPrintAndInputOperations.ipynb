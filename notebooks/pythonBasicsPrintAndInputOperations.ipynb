{
 "cells": [
  {
   "cell_type": "code",
   "execution_count": 8,
   "metadata": {},
   "outputs": [
    {
     "name": "stdout",
     "output_type": "stream",
     "text": [
      "3.11.13 (main, Jun  3 2025, 18:38:25) [Clang 16.0.0 (clang-1600.0.26.6)]\n",
      "numpy 2.3.3 pandas 2.3.2 sklearn 1.7.2\n"
     ]
    }
   ],
   "source": [
    "import sys, numpy, pandas, sklearn\n",
    "print(sys.version)\n",
    "print(\"numpy\", numpy.__version__, \"pandas\", pandas.__version__, \"sklearn\", sklearn.__version__)\n"
   ]
  },
  {
   "cell_type": "code",
   "execution_count": 9,
   "metadata": {},
   "outputs": [
    {
     "name": "stdout",
     "output_type": "stream",
     "text": [
      "Hello World! \n",
      "Hello World! \n",
      "Hello World!\n"
     ]
    }
   ],
   "source": [
    "print(\"Hello World! \\nHello World! \\nHello World!\")\n",
    "\n",
    "\n",
    "# \\n kullanimi ile birlikte print ile yazi yazdirirken yeni satira gecmek"
   ]
  },
  {
   "cell_type": "markdown",
   "metadata": {},
   "source": [
    "Kod yazarken space ile bosluk karakteri ya da tab ile yine bosluk karakterleri birakmak IndentationError yaratir buna pythonda dikkat etmek gerekiyor"
   ]
  },
  {
   "cell_type": "code",
   "execution_count": 17,
   "metadata": {},
   "outputs": [
    {
     "name": "stdout",
     "output_type": "stream",
     "text": [
      "Burada bunun yazmasini istediniz: gel laaa!\n"
     ]
    }
   ],
   "source": [
    "print(\"Burada bunun yazmasini istediniz: \" + input(\"Burada ne yazmasini istiyorsunuz? \") + \"!\")\n",
    "\n",
    "# 1- input(...) çalışır, kullanıcıdan bir metin girmesi beklenir.\n",
    "\n",
    "# 2- Kullanıcının girdiği metin input() fonksiyonunun sonucu olarak döner.\n",
    "\n",
    "# 3- Bu metin \"Burada bunun yazmasini istediniz: \" sabit yazıyla + operatörü kullanılarak birleştirilir.\n",
    "\n",
    "# 4- Sonuna \"!\" eklenir.\n",
    "\n",
    "# 5- print(...) fonksiyonu bu birleşmiş metni ekrana yazar.\n",
    "\n"
   ]
  },
  {
   "cell_type": "code",
   "execution_count": 14,
   "metadata": {},
   "outputs": [
    {
     "name": "stdout",
     "output_type": "stream",
     "text": [
      "Hello\n",
      "Word\n",
      "Hello\n",
      "World\n",
      "My name is Angela\n"
     ]
    }
   ],
   "source": [
    "# 1. New Line Escape Sequence\n",
    "\n",
    "# Learn to use `\\n` to add a new line to strings.\n",
    "\n",
    "print(\"Hello\")\n",
    "print(\"Word\")\n",
    "\n",
    "# is the same as:\n",
    "\n",
    "print(\"Hello\\nWorld\")\n",
    "\n",
    "# 2. String Concatenation\n",
    "# Use the plus symbol `+` to concatenate different strings together\n",
    "\n",
    "print(\"My name is\" + \" \" + \"Angela\")\n",
    "\n",
    "# will output: \"My name is Angela\""
   ]
  },
  {
   "cell_type": "markdown",
   "metadata": {},
   "source": [
    "\"Command\" tusu ve \"/\" tusu birlikte basip   ---> istedigimiz satira gelip bu kisayolu yaptigimiz anda secili satiri ya da satirlari YORUM SATIRI yapmis oluyoruz"
   ]
  },
  {
   "cell_type": "code",
   "execution_count": 11,
   "metadata": {},
   "outputs": [
    {
     "name": "stdout",
     "output_type": "stream",
     "text": [
      "Merhaba ben Berkay.\n"
     ]
    }
   ],
   "source": [
    "print(\"Merhaba\" + \" \" + \"ben\" + \" Berkay.\")"
   ]
  },
  {
   "cell_type": "code",
   "execution_count": 10,
   "metadata": {},
   "outputs": [
    {
     "data": {
      "text/plain": [
       "'Hello,World!'"
      ]
     },
     "execution_count": 10,
     "metadata": {},
     "output_type": "execute_result"
    }
   ],
   "source": [
    "def hello():\n",
    "    return 'Hello,World!'\n",
    "\n",
    "hello()\n",
    "\n",
    "# hello isimli fonksiyon devrede\n",
    "# fonksiyonIsmi() - seklinde de fonksiyon cagiriliyor.\n"
   ]
  }
 ],
 "metadata": {
  "kernelspec": {
   "display_name": ".venv",
   "language": "python",
   "name": "python3"
  },
  "language_info": {
   "codemirror_mode": {
    "name": "ipython",
    "version": 3
   },
   "file_extension": ".py",
   "mimetype": "text/x-python",
   "name": "python",
   "nbconvert_exporter": "python",
   "pygments_lexer": "ipython3",
   "version": "3.11.13"
  },
  "orig_nbformat": 4
 },
 "nbformat": 4,
 "nbformat_minor": 2
}
