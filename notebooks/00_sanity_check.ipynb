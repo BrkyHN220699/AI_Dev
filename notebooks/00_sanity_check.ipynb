{
 "cells": [
  {
   "cell_type": "code",
   "execution_count": 3,
   "metadata": {},
   "outputs": [
    {
     "name": "stdout",
     "output_type": "stream",
     "text": [
      "3.11.13 (main, Jun  3 2025, 18:38:25) [Clang 16.0.0 (clang-1600.0.26.6)]\n",
      "numpy 2.3.3 pandas 2.3.2 sklearn 1.7.2\n"
     ]
    }
   ],
   "source": [
    "import sys, numpy, pandas, sklearn\n",
    "print(sys.version)\n",
    "print(\"numpy\", numpy.__version__, \"pandas\", pandas.__version__, \"sklearn\", sklearn.__version__)\n"
   ]
  }
 ],
 "metadata": {
  "kernelspec": {
   "display_name": ".venv",
   "language": "python",
   "name": "python3"
  },
  "language_info": {
   "codemirror_mode": {
    "name": "ipython",
    "version": 3
   },
   "file_extension": ".py",
   "mimetype": "text/x-python",
   "name": "python",
   "nbconvert_exporter": "python",
   "pygments_lexer": "ipython3",
   "version": "3.11.13"
  },
  "orig_nbformat": 4
 },
 "nbformat": 4,
 "nbformat_minor": 2
}
